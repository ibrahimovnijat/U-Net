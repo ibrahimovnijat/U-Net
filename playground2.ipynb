{
 "cells": [
  {
   "cell_type": "code",
   "execution_count": 5,
   "id": "ff09e17b-a218-44a8-bf0a-53af58484c7b",
   "metadata": {},
   "outputs": [],
   "source": [
    "# !pip install -r requirements.txt\n",
    "import torch \n",
    "import torch.nn as nn \n",
    "from torchvision import transforms\n",
    "from torch.optim.lr_scheduler import ExponentialLR\n",
    "import matplotlib.pyplot as plt \n",
    "from PIL import Image\n",
    "import cv2 as cv\n",
    "\n",
    "from model.losses import soft_dice_loss, dice_coefficient, single_class_dice_coefficient\n",
    "from training.dataloader import BraTSDataLoader, MRIDataLoader\n",
    "\n",
    "from util.summarize_model import summarize_model\n",
    "from model.unet import UNet2D\n",
    "from torchsummary import summary\n",
    "from tqdm import tqdm \n",
    "import random \n",
    "\n",
    "%load_ext autoreload\n",
    "%autoreload 2\n",
    "%matplotlib inline"
   ]
  },
  {
   "cell_type": "code",
   "execution_count": 3,
   "id": "5c9b9323-25ab-427d-8cfe-5a1482c6cf67",
   "metadata": {
    "tags": []
   },
   "outputs": [],
   "source": [
    "# from util.data_helper import train_valid_split\n",
    "# from pathlib import Path\n",
    "\n",
    "# data_dir = Path(\"data/mri_data/all_data\")\n",
    "# train_valid_split(data_dir, valid_size=0.15, train_size=0.85, random_sampling=True)"
   ]
  },
  {
   "cell_type": "code",
   "execution_count": 4,
   "id": "fab83e76-77a3-4123-9223-18a27836740d",
   "metadata": {
    "jupyter": {
     "source_hidden": true
    },
    "tags": []
   },
   "outputs": [],
   "source": [
    "import os \n",
    "import random \n",
    "\n",
    "class DataLoader(torch.utils.data.Dataset):\n",
    "\n",
    "    def __init__(self, data_dir, subset=\"train\"):\n",
    "        assert subset in [\"train\", \"valid\"]\n",
    "        \n",
    "        self.data_dir = os.path.join(data_dir, subset)\n",
    "        for data in os.walk(self.data_dir):\n",
    "            self.patients = data[1]\n",
    "            break\n",
    "    \n",
    "    \n",
    "    def _readimage(self, idx, standardize=True):        \n",
    "        image = os.path.join(self.data_dir, self.patients[idx], f\"{self.patients[idx]}.tif\")\n",
    "        mask = os.path.join(self.data_dir, self.patients[idx], f\"{self.patients[idx]}_mask.tif\")\n",
    "        \n",
    "        img = cv.imread(image, cv.IMREAD_COLOR)\n",
    "        msk = cv.imread(mask, cv.IMREAD_GRAYSCALE)\n",
    "        \n",
    "        img_tensor = torch.from_numpy(img).type(torch.FloatTensor)    \n",
    "        msk_tensor = torch.from_numpy(msk).type(torch.FloatTensor) \n",
    "\n",
    "        img_tensor = torch.permute(img_tensor, (2,0,1))\n",
    "        msk_tensor = msk_tensor.unsqueeze(0)\n",
    "        \n",
    "        return self._adjust(img_tensor, msk_tensor)\n",
    "\n",
    "\n",
    "    def __getitem__(self, idx):\n",
    "        image, mask = self._readimage(idx)\n",
    "        return {\n",
    "            \"image\" : image,\n",
    "            \"mask\" : mask \n",
    "        }\n",
    "\n",
    "    \n",
    "    def __len__(self):\n",
    "        return len(self.patients)\n",
    "\n",
    "    \n",
    "    def _adjust(self, image, mask):\n",
    "        image = image / 255\n",
    "        mask = mask / 255 \n",
    "        mask[mask > 0.5] = 1.0\n",
    "        mask[mask <= 0.5] = 0.0\n",
    "        return image, mask  \n",
    "        \n",
    "                             \n",
    "    def print_patient_ids(self):\n",
    "        print(self.patients)"
   ]
  },
  {
   "cell_type": "code",
   "execution_count": 5,
   "id": "9969c2e3-b767-4a2f-83e4-20b7a5b017be",
   "metadata": {
    "jupyter": {
     "source_hidden": true
    },
    "tags": []
   },
   "outputs": [
    {
     "name": "stdout",
     "output_type": "stream",
     "text": [
      "3340\n"
     ]
    },
    {
     "ename": "NameError",
     "evalue": "name 'images' is not defined",
     "output_type": "error",
     "traceback": [
      "\u001b[0;31m---------------------------------------------------------------------------\u001b[0m",
      "\u001b[0;31mNameError\u001b[0m                                 Traceback (most recent call last)",
      "Input \u001b[0;32mIn [5]\u001b[0m, in \u001b[0;36m<cell line: 10>\u001b[0;34m()\u001b[0m\n\u001b[1;32m      7\u001b[0m image \u001b[38;5;241m=\u001b[39m train_data[\u001b[38;5;124m\"\u001b[39m\u001b[38;5;124mimage\u001b[39m\u001b[38;5;124m\"\u001b[39m]\n\u001b[1;32m      8\u001b[0m mask  \u001b[38;5;241m=\u001b[39m train_data[\u001b[38;5;124m\"\u001b[39m\u001b[38;5;124mmask\u001b[39m\u001b[38;5;124m\"\u001b[39m]\n\u001b[0;32m---> 10\u001b[0m \u001b[38;5;28mprint\u001b[39m(\u001b[38;5;124m\"\u001b[39m\u001b[38;5;124mimage size:\u001b[39m\u001b[38;5;124m\"\u001b[39m, \u001b[43mimages\u001b[49m\u001b[38;5;241m.\u001b[39msize())\n\u001b[1;32m     11\u001b[0m \u001b[38;5;28mprint\u001b[39m(\u001b[38;5;124m\"\u001b[39m\u001b[38;5;124mmask size:\u001b[39m\u001b[38;5;124m\"\u001b[39m, masks\u001b[38;5;241m.\u001b[39msize())\n\u001b[1;32m     13\u001b[0m \u001b[38;5;28;01mdef\u001b[39;00m \u001b[38;5;21mshowImage\u001b[39m(image: torch\u001b[38;5;241m.\u001b[39mTensor):\n",
      "\u001b[0;31mNameError\u001b[0m: name 'images' is not defined"
     ]
    }
   ],
   "source": [
    "data_dir = \"data/mri_data/\"\n",
    "train_loader = DataLoader(data_dir, subset=\"train\")\n",
    "print(len(train_loader))\n",
    "\n",
    "train_data = next(iter(train_loader))\n",
    "\n",
    "image = train_data[\"image\"]\n",
    "mask  = train_data[\"mask\"]\n",
    "\n",
    "print(\"image size:\", images.size())\n",
    "print(\"mask size:\", masks.size())\n",
    "\n",
    "def showImage(image: torch.Tensor):\n",
    "    import matplotlib.pyplot as plt \n",
    "    from matplotlib.pyplot import figure\n",
    "\n",
    "    image = torch.permute(image, (1,2,0))\n",
    "    image = image.cpu().detach().numpy()\n",
    "    \n",
    "    figure(figsize=(4, 4), dpi=80)\n",
    "    plt.imshow(image, cmap=\"gray\")\n",
    "\n",
    "showImage(mask)\n",
    "# showImage(image)\n",
    "\n",
    "unet = UNet2D(3,1).cuda()\n",
    "\n",
    "out = unet(image.unsqueeze(0).cuda())\n",
    "out = (out > 0.5).float()\n",
    "\n",
    "showImage(out.squeeze(0).cpu())"
   ]
  },
  {
   "cell_type": "code",
   "execution_count": 2,
   "id": "2605e1d7-ac25-4691-8503-90bb8e5a87e2",
   "metadata": {},
   "outputs": [],
   "source": [
    "# define the model\n",
    "unet = UNet2D(in_ch=3, out_ch=1).to(\"cuda\")\n",
    "# summary(unet, input_size=(3, 572, 572))"
   ]
  },
  {
   "cell_type": "code",
   "execution_count": 6,
   "id": "24c277eb-bb6a-4e26-a4eb-c6d451ccdb32",
   "metadata": {
    "tags": []
   },
   "outputs": [],
   "source": [
    "def accuracy(model, loader):\n",
    "    num_correct = 0.\n",
    "    num_pixels = 0.\n",
    "    dice_score = 0.\n",
    "    accuracy_score = 0.\n",
    "        \n",
    "    model.eval()\n",
    "    \n",
    "    with torch.no_grad():\n",
    "        for batch in loader:\n",
    "            x = batch[\"image\"].cuda()\n",
    "            y = batch[\"mask\"].cuda()\n",
    "            \n",
    "            preds = model(x)\n",
    "            preds = (preds > 0.5).float()\n",
    "            num_correct += (preds==y).sum()\n",
    "            num_pixels += torch.numel(preds)\n",
    "            accuracy_score = num_correct / num_pixels\n",
    "            # dice_score += 2 * (preds * y).sum() / ((preds + y).sum() + 1e-8)      \n",
    "            dice_score += single_class_dice_coefficient(preds, y, axis=(0,1,2,3))\n",
    "        dice_score = dice_score / len(loader)\n",
    "\n",
    "    return float(accuracy_score), float(dice_score)\n",
    "\n",
    "\n",
    "def adjust(mask):\n",
    "    mask[mask>0.5] = 1.\n",
    "    mask[mask<=0.5] = 0.\n",
    "    return mask\n",
    "    \n",
    "    \n",
    "def train(model, train_loader, valid_loader, epochs):\n",
    "    \n",
    "    optimizer = torch.optim.Adam(model.parameters(), lr=1e-3, weight_decay=0.)\n",
    "    criterion = nn.BCEWithLogitsLoss()\n",
    "    scheduler = ExponentialLR(optimizer, gamma=0.9)\n",
    "    \n",
    "    losses_vec, accuracies, dice_scores = [], [], []\n",
    "    best_dice_score = 0.\n",
    "\n",
    "    for epoch in range(epochs):\n",
    "        total_loss = 0.\n",
    "        model.train()\n",
    "        for i, batch in enumerate(tqdm(train_loader)):\n",
    "            batch[\"image\"], batch[\"mask\"] = batch[\"image\"].cuda(), batch[\"mask\"].cuda()\n",
    "            optimizer.zero_grad()\n",
    "            preds = model(batch[\"image\"])\n",
    "            batch_train_loss = criterion(preds, batch[\"mask\"])\n",
    "            # batch_train_loss = soft_dice_loss(preds, batch[\"mask\"], axis=(1,2,3))\n",
    "\n",
    "            batch_train_loss.backward()\n",
    "            optimizer.step()\n",
    "            \n",
    "            total_loss += batch_train_loss.item()\n",
    "        scheduler.step()\n",
    "        \n",
    "        losses_vec.append(total_loss)\n",
    "        acc, dice_score = accuracy(model, valid_loader)\n",
    "        accuracies.append(acc)\n",
    "        dice_scores.append(dice_score)\n",
    "\n",
    "        print(f\"Epoch: {epoch+1}; Total batch loss:\", total_loss / len(train_loader))\n",
    "        print(f\"Accuracy: {acc:.4f}\")\n",
    "        print(f\"Dice score: {dice_score:.4f}\")\n",
    "        \n",
    "        if dice_score > best_dice_score:\n",
    "            # TODO save model\n",
    "            print(\"Dice score increased.. Saving model..\")\n",
    "            torch.save(model.state_dict(), \"runs/test2/model_best.ckpt\")\n",
    "            best_dice_score = dice_score\n",
    "\n",
    "    print(\"Best dice score:\", best_dice_score)\n",
    "    \n",
    "    plt.subplot(1,3,1)\n",
    "    plt.plot(losses_vec)\n",
    "    plt.subplot(1,3,2)\n",
    "    plt.plot(accuracies)\n",
    "    plt.subplot(1,3,3)\n",
    "    plt.plot(dice_scores)\n",
    "    plt.show()\n",
    "\n",
    "\n",
    "train_dataset = MRIDataLoader(data_dir=\"data/mri_data/\", subset=\"train\")\n",
    "train_dataloader = torch.utils.data.DataLoader(\n",
    "        train_dataset,   # Datasets return data one sample at a time; Dataloaders use them and aggregate samples into batches\n",
    "        batch_size=16,   # The size of batches is defined here\n",
    "        shuffle=True,    # Shuffling the order of samples is useful during training to prevent that the network learns to depend on the order of the input data\n",
    "        num_workers=4,   # Data is usually loaded in parallel by num_workers\n",
    "        pin_memory= True  # This is an implementation detail to speed up data uploading to the GPU\n",
    "    )\n",
    "\n",
    "valid_dataset = MRIDataLoader(data_dir=\"data/mri_data/\", subset=\"valid\")\n",
    "valid_dataloader = torch.utils.data.DataLoader(\n",
    "        valid_dataset,   # Datasets return data one sample at a time; Dataloaders use them and aggregate samples into batches\n",
    "        batch_size=16,   # The size of batches is defined here\n",
    "        shuffle=False,    # Shuffling the order of samples is useful during training to prevent that the network learns to depend on the order of the input data\n",
    "        num_workers=4,   # Data is usually loaded in parallel by num_workers\n",
    "        pin_memory= True  # This is an implementation detail to speed up data uploading to the GPU\n",
    "    )\n"
   ]
  },
  {
   "cell_type": "code",
   "execution_count": 4,
   "id": "113513b3-99e0-4476-8f59-ee5087dd02a8",
   "metadata": {},
   "outputs": [
    {
     "name": "stderr",
     "output_type": "stream",
     "text": [
      "100%|██████████| 209/209 [02:04<00:00,  1.68it/s]\n"
     ]
    },
    {
     "name": "stdout",
     "output_type": "stream",
     "text": [
      "Epoch: 1; Total batch loss: 0.7362401898968163\n",
      "Accuracy: 0.7072\n",
      "Dice score: 0.0083\n",
      "Dice score increased.. Saving model..\n"
     ]
    },
    {
     "name": "stderr",
     "output_type": "stream",
     "text": [
      "100%|██████████| 209/209 [02:02<00:00,  1.70it/s]\n"
     ]
    },
    {
     "name": "stdout",
     "output_type": "stream",
     "text": [
      "Epoch: 2; Total batch loss: 0.6969638050458078\n",
      "Accuracy: 0.9901\n",
      "Dice score: 0.0857\n",
      "Dice score increased.. Saving model..\n"
     ]
    },
    {
     "name": "stderr",
     "output_type": "stream",
     "text": [
      "100%|██████████| 209/209 [02:02<00:00,  1.70it/s]\n"
     ]
    },
    {
     "name": "stdout",
     "output_type": "stream",
     "text": [
      "Epoch: 3; Total batch loss: 0.6941918619511801\n",
      "Accuracy: 0.9911\n",
      "Dice score: 0.4399\n",
      "Dice score increased.. Saving model..\n"
     ]
    },
    {
     "name": "stderr",
     "output_type": "stream",
     "text": [
      "100%|██████████| 209/209 [02:02<00:00,  1.70it/s]\n"
     ]
    },
    {
     "name": "stdout",
     "output_type": "stream",
     "text": [
      "Epoch: 4; Total batch loss: 0.6936499812956632\n",
      "Accuracy: 0.9916\n",
      "Dice score: 0.4922\n",
      "Dice score increased.. Saving model..\n"
     ]
    },
    {
     "name": "stderr",
     "output_type": "stream",
     "text": [
      "100%|██████████| 209/209 [02:02<00:00,  1.70it/s]\n"
     ]
    },
    {
     "name": "stdout",
     "output_type": "stream",
     "text": [
      "Epoch: 5; Total batch loss: 0.6930811396626194\n",
      "Accuracy: 0.9922\n",
      "Dice score: 0.3994\n"
     ]
    },
    {
     "name": "stderr",
     "output_type": "stream",
     "text": [
      "100%|██████████| 209/209 [02:02<00:00,  1.70it/s]\n"
     ]
    },
    {
     "name": "stdout",
     "output_type": "stream",
     "text": [
      "Epoch: 6; Total batch loss: 0.6925978771807474\n",
      "Accuracy: 0.9935\n",
      "Dice score: 0.5631\n",
      "Dice score increased.. Saving model..\n"
     ]
    },
    {
     "name": "stderr",
     "output_type": "stream",
     "text": [
      "100%|██████████| 209/209 [02:02<00:00,  1.70it/s]\n"
     ]
    },
    {
     "name": "stdout",
     "output_type": "stream",
     "text": [
      "Epoch: 7; Total batch loss: 0.6921193787926122\n",
      "Accuracy: 0.9942\n",
      "Dice score: 0.6631\n",
      "Dice score increased.. Saving model..\n"
     ]
    },
    {
     "name": "stderr",
     "output_type": "stream",
     "text": [
      "100%|██████████| 209/209 [02:02<00:00,  1.70it/s]\n"
     ]
    },
    {
     "name": "stdout",
     "output_type": "stream",
     "text": [
      "Epoch: 8; Total batch loss: 0.6919285384091464\n",
      "Accuracy: 0.9936\n",
      "Dice score: 0.5585\n"
     ]
    },
    {
     "name": "stderr",
     "output_type": "stream",
     "text": [
      "100%|██████████| 209/209 [02:02<00:00,  1.70it/s]\n"
     ]
    },
    {
     "name": "stdout",
     "output_type": "stream",
     "text": [
      "Epoch: 9; Total batch loss: 0.6917294982517735\n",
      "Accuracy: 0.9941\n",
      "Dice score: 0.6027\n"
     ]
    },
    {
     "name": "stderr",
     "output_type": "stream",
     "text": [
      "100%|██████████| 209/209 [02:02<00:00,  1.70it/s]\n"
     ]
    },
    {
     "name": "stdout",
     "output_type": "stream",
     "text": [
      "Epoch: 10; Total batch loss: 0.6916169738085076\n",
      "Accuracy: 0.9938\n",
      "Dice score: 0.5509\n"
     ]
    },
    {
     "name": "stderr",
     "output_type": "stream",
     "text": [
      "100%|██████████| 209/209 [02:02<00:00,  1.70it/s]\n"
     ]
    },
    {
     "name": "stdout",
     "output_type": "stream",
     "text": [
      "Epoch: 11; Total batch loss: 0.6915817280705465\n",
      "Accuracy: 0.9943\n",
      "Dice score: 0.6264\n"
     ]
    },
    {
     "name": "stderr",
     "output_type": "stream",
     "text": [
      "100%|██████████| 209/209 [02:02<00:00,  1.70it/s]\n"
     ]
    },
    {
     "name": "stdout",
     "output_type": "stream",
     "text": [
      "Epoch: 12; Total batch loss: 0.691555245641316\n",
      "Accuracy: 0.9943\n",
      "Dice score: 0.6161\n"
     ]
    },
    {
     "name": "stderr",
     "output_type": "stream",
     "text": [
      "100%|██████████| 209/209 [02:02<00:00,  1.70it/s]\n"
     ]
    },
    {
     "name": "stdout",
     "output_type": "stream",
     "text": [
      "Epoch: 13; Total batch loss: 0.6915067040749143\n",
      "Accuracy: 0.9947\n",
      "Dice score: 0.7089\n",
      "Dice score increased.. Saving model..\n"
     ]
    },
    {
     "name": "stderr",
     "output_type": "stream",
     "text": [
      "100%|██████████| 209/209 [02:02<00:00,  1.70it/s]\n"
     ]
    },
    {
     "name": "stdout",
     "output_type": "stream",
     "text": [
      "Epoch: 14; Total batch loss: 0.6914047094053059\n",
      "Accuracy: 0.9947\n",
      "Dice score: 0.6659\n"
     ]
    },
    {
     "name": "stderr",
     "output_type": "stream",
     "text": [
      "100%|██████████| 209/209 [02:02<00:00,  1.70it/s]\n"
     ]
    },
    {
     "name": "stdout",
     "output_type": "stream",
     "text": [
      "Epoch: 15; Total batch loss: 0.6913649166029606\n",
      "Accuracy: 0.9951\n",
      "Dice score: 0.6936\n"
     ]
    },
    {
     "name": "stderr",
     "output_type": "stream",
     "text": [
      "100%|██████████| 209/209 [02:02<00:00,  1.70it/s]\n"
     ]
    },
    {
     "name": "stdout",
     "output_type": "stream",
     "text": [
      "Epoch: 16; Total batch loss: 0.6913059955578672\n",
      "Accuracy: 0.9950\n",
      "Dice score: 0.6862\n"
     ]
    },
    {
     "name": "stderr",
     "output_type": "stream",
     "text": [
      "100%|██████████| 209/209 [02:02<00:00,  1.70it/s]\n"
     ]
    },
    {
     "name": "stdout",
     "output_type": "stream",
     "text": [
      "Epoch: 17; Total batch loss: 0.6913773043874348\n",
      "Accuracy: 0.9948\n",
      "Dice score: 0.6646\n"
     ]
    },
    {
     "name": "stderr",
     "output_type": "stream",
     "text": [
      "100%|██████████| 209/209 [02:02<00:00,  1.70it/s]\n"
     ]
    },
    {
     "name": "stdout",
     "output_type": "stream",
     "text": [
      "Epoch: 18; Total batch loss: 0.6912163324903643\n",
      "Accuracy: 0.9952\n",
      "Dice score: 0.7036\n"
     ]
    },
    {
     "name": "stderr",
     "output_type": "stream",
     "text": [
      "100%|██████████| 209/209 [02:02<00:00,  1.70it/s]\n"
     ]
    },
    {
     "name": "stdout",
     "output_type": "stream",
     "text": [
      "Epoch: 19; Total batch loss: 0.6911695448405435\n",
      "Accuracy: 0.9946\n",
      "Dice score: 0.6395\n"
     ]
    },
    {
     "name": "stderr",
     "output_type": "stream",
     "text": [
      "100%|██████████| 209/209 [02:02<00:00,  1.70it/s]\n"
     ]
    },
    {
     "name": "stdout",
     "output_type": "stream",
     "text": [
      "Epoch: 20; Total batch loss: 0.6912027021344198\n",
      "Accuracy: 0.9952\n",
      "Dice score: 0.6995\n"
     ]
    },
    {
     "name": "stderr",
     "output_type": "stream",
     "text": [
      "100%|██████████| 209/209 [02:02<00:00,  1.70it/s]\n"
     ]
    },
    {
     "name": "stdout",
     "output_type": "stream",
     "text": [
      "Epoch: 21; Total batch loss: 0.691099714434318\n",
      "Accuracy: 0.9955\n",
      "Dice score: 0.7338\n",
      "Dice score increased.. Saving model..\n"
     ]
    },
    {
     "name": "stderr",
     "output_type": "stream",
     "text": [
      "100%|██████████| 209/209 [02:02<00:00,  1.70it/s]\n"
     ]
    },
    {
     "name": "stdout",
     "output_type": "stream",
     "text": [
      "Epoch: 22; Total batch loss: 0.6910282881065989\n",
      "Accuracy: 0.9957\n",
      "Dice score: 0.7444\n",
      "Dice score increased.. Saving model..\n"
     ]
    },
    {
     "name": "stderr",
     "output_type": "stream",
     "text": [
      "100%|██████████| 209/209 [02:02<00:00,  1.70it/s]\n"
     ]
    },
    {
     "name": "stdout",
     "output_type": "stream",
     "text": [
      "Epoch: 23; Total batch loss: 0.691073629844702\n",
      "Accuracy: 0.9958\n",
      "Dice score: 0.7541\n",
      "Dice score increased.. Saving model..\n"
     ]
    },
    {
     "name": "stderr",
     "output_type": "stream",
     "text": [
      "100%|██████████| 209/209 [02:02<00:00,  1.70it/s]\n"
     ]
    },
    {
     "name": "stdout",
     "output_type": "stream",
     "text": [
      "Epoch: 24; Total batch loss: 0.6910120927546013\n",
      "Accuracy: 0.9960\n",
      "Dice score: 0.7652\n",
      "Dice score increased.. Saving model..\n"
     ]
    },
    {
     "name": "stderr",
     "output_type": "stream",
     "text": [
      "100%|██████████| 209/209 [02:02<00:00,  1.70it/s]\n"
     ]
    },
    {
     "name": "stdout",
     "output_type": "stream",
     "text": [
      "Epoch: 25; Total batch loss: 0.6909552986542004\n",
      "Accuracy: 0.9958\n",
      "Dice score: 0.7420\n"
     ]
    },
    {
     "name": "stderr",
     "output_type": "stream",
     "text": [
      "100%|██████████| 209/209 [02:02<00:00,  1.70it/s]\n"
     ]
    },
    {
     "name": "stdout",
     "output_type": "stream",
     "text": [
      "Epoch: 26; Total batch loss: 0.6909199676445227\n",
      "Accuracy: 0.9960\n",
      "Dice score: 0.7609\n"
     ]
    },
    {
     "name": "stderr",
     "output_type": "stream",
     "text": [
      "100%|██████████| 209/209 [02:02<00:00,  1.70it/s]\n",
      "100%|██████████| 209/209 [02:02<00:00,  1.70it/s]\n"
     ]
    },
    {
     "name": "stdout",
     "output_type": "stream",
     "text": [
      "Epoch: 28; Total batch loss: 0.6908442862866598\n",
      "Accuracy: 0.9960\n",
      "Dice score: 0.7576\n"
     ]
    },
    {
     "name": "stderr",
     "output_type": "stream",
     "text": [
      "100%|██████████| 209/209 [02:02<00:00,  1.70it/s]\n"
     ]
    },
    {
     "name": "stdout",
     "output_type": "stream",
     "text": [
      "Epoch: 29; Total batch loss: 0.6908295331389139\n",
      "Accuracy: 0.9961\n",
      "Dice score: 0.7647\n"
     ]
    },
    {
     "name": "stderr",
     "output_type": "stream",
     "text": [
      "100%|██████████| 209/209 [02:02<00:00,  1.70it/s]\n"
     ]
    },
    {
     "name": "stdout",
     "output_type": "stream",
     "text": [
      "Epoch: 30; Total batch loss: 0.6907944784780439\n",
      "Accuracy: 0.9963\n",
      "Dice score: 0.7819\n",
      "Dice score increased.. Saving model..\n"
     ]
    },
    {
     "name": "stderr",
     "output_type": "stream",
     "text": [
      "100%|██████████| 209/209 [02:02<00:00,  1.70it/s]\n"
     ]
    },
    {
     "name": "stdout",
     "output_type": "stream",
     "text": [
      "Epoch: 31; Total batch loss: 0.6907924182677383\n",
      "Accuracy: 0.9962\n",
      "Dice score: 0.7818\n"
     ]
    },
    {
     "name": "stderr",
     "output_type": "stream",
     "text": [
      "100%|██████████| 209/209 [02:02<00:00,  1.70it/s]\n"
     ]
    },
    {
     "name": "stdout",
     "output_type": "stream",
     "text": [
      "Epoch: 32; Total batch loss: 0.6907563372091814\n",
      "Accuracy: 0.9962\n",
      "Dice score: 0.7758\n"
     ]
    },
    {
     "name": "stderr",
     "output_type": "stream",
     "text": [
      "100%|██████████| 209/209 [02:02<00:00,  1.70it/s]\n"
     ]
    },
    {
     "name": "stdout",
     "output_type": "stream",
     "text": [
      "Epoch: 33; Total batch loss: 0.6907424661531403\n",
      "Accuracy: 0.9962\n",
      "Dice score: 0.7735\n"
     ]
    },
    {
     "name": "stderr",
     "output_type": "stream",
     "text": [
      "100%|██████████| 209/209 [02:02<00:00,  1.70it/s]\n"
     ]
    },
    {
     "name": "stdout",
     "output_type": "stream",
     "text": [
      "Epoch: 34; Total batch loss: 0.6907346864636434\n",
      "Accuracy: 0.9962\n",
      "Dice score: 0.7736\n"
     ]
    },
    {
     "name": "stderr",
     "output_type": "stream",
     "text": [
      "100%|██████████| 209/209 [02:02<00:00,  1.70it/s]\n"
     ]
    },
    {
     "name": "stdout",
     "output_type": "stream",
     "text": [
      "Epoch: 35; Total batch loss: 0.6907293622573597\n",
      "Accuracy: 0.9964\n",
      "Dice score: 0.7945\n",
      "Dice score increased.. Saving model..\n"
     ]
    },
    {
     "name": "stderr",
     "output_type": "stream",
     "text": [
      "100%|██████████| 209/209 [02:02<00:00,  1.70it/s]\n"
     ]
    },
    {
     "name": "stdout",
     "output_type": "stream",
     "text": [
      "Epoch: 36; Total batch loss: 0.690714453681234\n",
      "Accuracy: 0.9964\n",
      "Dice score: 0.7919\n"
     ]
    },
    {
     "name": "stderr",
     "output_type": "stream",
     "text": [
      "100%|██████████| 209/209 [02:02<00:00,  1.70it/s]\n"
     ]
    },
    {
     "name": "stdout",
     "output_type": "stream",
     "text": [
      "Epoch: 37; Total batch loss: 0.6907147839308926\n",
      "Accuracy: 0.9963\n",
      "Dice score: 0.7797\n"
     ]
    },
    {
     "name": "stderr",
     "output_type": "stream",
     "text": [
      "100%|██████████| 209/209 [02:02<00:00,  1.70it/s]\n"
     ]
    },
    {
     "name": "stdout",
     "output_type": "stream",
     "text": [
      "Epoch: 38; Total batch loss: 0.6906974560906443\n",
      "Accuracy: 0.9964\n",
      "Dice score: 0.7929\n"
     ]
    },
    {
     "name": "stderr",
     "output_type": "stream",
     "text": [
      "100%|██████████| 209/209 [02:02<00:00,  1.70it/s]\n"
     ]
    },
    {
     "name": "stdout",
     "output_type": "stream",
     "text": [
      "Epoch: 39; Total batch loss: 0.6906969304860494\n",
      "Accuracy: 0.9963\n",
      "Dice score: 0.7769\n"
     ]
    },
    {
     "name": "stderr",
     "output_type": "stream",
     "text": [
      "100%|██████████| 209/209 [02:02<00:00,  1.70it/s]\n"
     ]
    },
    {
     "name": "stdout",
     "output_type": "stream",
     "text": [
      "Epoch: 40; Total batch loss: 0.6906795689934179\n",
      "Accuracy: 0.9965\n",
      "Dice score: 0.7989\n",
      "Dice score increased.. Saving model..\n"
     ]
    },
    {
     "name": "stderr",
     "output_type": "stream",
     "text": [
      "100%|██████████| 209/209 [02:02<00:00,  1.70it/s]\n"
     ]
    },
    {
     "name": "stdout",
     "output_type": "stream",
     "text": [
      "Epoch: 41; Total batch loss: 0.6906783920155758\n",
      "Accuracy: 0.9964\n",
      "Dice score: 0.7890\n"
     ]
    },
    {
     "name": "stderr",
     "output_type": "stream",
     "text": [
      "100%|██████████| 209/209 [02:02<00:00,  1.70it/s]\n"
     ]
    },
    {
     "name": "stdout",
     "output_type": "stream",
     "text": [
      "Epoch: 42; Total batch loss: 0.6906785177842282\n",
      "Accuracy: 0.9965\n",
      "Dice score: 0.8002\n",
      "Dice score increased.. Saving model..\n"
     ]
    },
    {
     "name": "stderr",
     "output_type": "stream",
     "text": [
      "100%|██████████| 209/209 [02:02<00:00,  1.70it/s]\n"
     ]
    },
    {
     "name": "stdout",
     "output_type": "stream",
     "text": [
      "Epoch: 43; Total batch loss: 0.6906798630239861\n",
      "Accuracy: 0.9965\n",
      "Dice score: 0.7943\n"
     ]
    },
    {
     "name": "stderr",
     "output_type": "stream",
     "text": [
      "100%|██████████| 209/209 [02:02<00:00,  1.70it/s]\n"
     ]
    },
    {
     "name": "stdout",
     "output_type": "stream",
     "text": [
      "Epoch: 44; Total batch loss: 0.690661000578027\n",
      "Accuracy: 0.9965\n",
      "Dice score: 0.7951\n"
     ]
    },
    {
     "name": "stderr",
     "output_type": "stream",
     "text": [
      "100%|██████████| 209/209 [02:02<00:00,  1.70it/s]\n"
     ]
    },
    {
     "name": "stdout",
     "output_type": "stream",
     "text": [
      "Epoch: 45; Total batch loss: 0.6906369639355601\n",
      "Accuracy: 0.9964\n",
      "Dice score: 0.7920\n"
     ]
    },
    {
     "name": "stderr",
     "output_type": "stream",
     "text": [
      "100%|██████████| 209/209 [02:02<00:00,  1.71it/s]\n"
     ]
    },
    {
     "name": "stdout",
     "output_type": "stream",
     "text": [
      "Epoch: 46; Total batch loss: 0.6906573795245595\n",
      "Accuracy: 0.9965\n",
      "Dice score: 0.7987\n"
     ]
    },
    {
     "name": "stderr",
     "output_type": "stream",
     "text": [
      "100%|██████████| 209/209 [02:02<00:00,  1.70it/s]\n"
     ]
    },
    {
     "name": "stdout",
     "output_type": "stream",
     "text": [
      "Epoch: 47; Total batch loss: 0.6906408456524024\n",
      "Accuracy: 0.9964\n",
      "Dice score: 0.7860\n"
     ]
    },
    {
     "name": "stderr",
     "output_type": "stream",
     "text": [
      "100%|██████████| 209/209 [02:02<00:00,  1.70it/s]\n"
     ]
    },
    {
     "name": "stdout",
     "output_type": "stream",
     "text": [
      "Epoch: 48; Total batch loss: 0.6906443905602232\n",
      "Accuracy: 0.9965\n",
      "Dice score: 0.8002\n"
     ]
    },
    {
     "name": "stderr",
     "output_type": "stream",
     "text": [
      "100%|██████████| 209/209 [02:02<00:00,  1.70it/s]\n"
     ]
    },
    {
     "name": "stdout",
     "output_type": "stream",
     "text": [
      "Epoch: 49; Total batch loss: 0.6906403639670194\n",
      "Accuracy: 0.9965\n",
      "Dice score: 0.7966\n"
     ]
    },
    {
     "name": "stderr",
     "output_type": "stream",
     "text": [
      "100%|██████████| 209/209 [02:02<00:00,  1.70it/s]\n"
     ]
    },
    {
     "name": "stdout",
     "output_type": "stream",
     "text": [
      "Epoch: 50; Total batch loss: 0.6906461236579566\n",
      "Accuracy: 0.9965\n",
      "Dice score: 0.7968\n"
     ]
    },
    {
     "name": "stderr",
     "output_type": "stream",
     "text": [
      "100%|██████████| 209/209 [02:02<00:00,  1.70it/s]\n"
     ]
    },
    {
     "name": "stdout",
     "output_type": "stream",
     "text": [
      "Epoch: 51; Total batch loss: 0.6906629355900595\n",
      "Accuracy: 0.9965\n",
      "Dice score: 0.7973\n"
     ]
    },
    {
     "name": "stderr",
     "output_type": "stream",
     "text": [
      "100%|██████████| 209/209 [02:02<00:00,  1.70it/s]\n"
     ]
    },
    {
     "name": "stdout",
     "output_type": "stream",
     "text": [
      "Epoch: 52; Total batch loss: 0.6906422981234829\n",
      "Accuracy: 0.9965\n",
      "Dice score: 0.7987\n"
     ]
    },
    {
     "name": "stderr",
     "output_type": "stream",
     "text": [
      "100%|██████████| 209/209 [02:02<00:00,  1.70it/s]\n"
     ]
    },
    {
     "name": "stdout",
     "output_type": "stream",
     "text": [
      "Epoch: 53; Total batch loss: 0.6906262037286348\n",
      "Accuracy: 0.9965\n",
      "Dice score: 0.8012\n",
      "Dice score increased.. Saving model..\n"
     ]
    },
    {
     "name": "stderr",
     "output_type": "stream",
     "text": [
      "100%|██████████| 209/209 [02:02<00:00,  1.70it/s]\n"
     ]
    },
    {
     "name": "stdout",
     "output_type": "stream",
     "text": [
      "Epoch: 54; Total batch loss: 0.6906501103246041\n",
      "Accuracy: 0.9965\n",
      "Dice score: 0.7928\n"
     ]
    },
    {
     "name": "stderr",
     "output_type": "stream",
     "text": [
      "100%|██████████| 209/209 [02:02<00:00,  1.71it/s]\n"
     ]
    },
    {
     "name": "stdout",
     "output_type": "stream",
     "text": [
      "Epoch: 55; Total batch loss: 0.6906393889034764\n",
      "Accuracy: 0.9965\n",
      "Dice score: 0.7939\n"
     ]
    },
    {
     "name": "stderr",
     "output_type": "stream",
     "text": [
      "100%|██████████| 209/209 [02:02<00:00,  1.70it/s]\n"
     ]
    },
    {
     "name": "stdout",
     "output_type": "stream",
     "text": [
      "Epoch: 56; Total batch loss: 0.690620373310655\n",
      "Accuracy: 0.9965\n",
      "Dice score: 0.7995\n"
     ]
    },
    {
     "name": "stderr",
     "output_type": "stream",
     "text": [
      "100%|██████████| 209/209 [02:02<00:00,  1.70it/s]\n"
     ]
    },
    {
     "name": "stdout",
     "output_type": "stream",
     "text": [
      "Epoch: 57; Total batch loss: 0.6906253840934717\n",
      "Accuracy: 0.9964\n",
      "Dice score: 0.7903\n"
     ]
    },
    {
     "name": "stderr",
     "output_type": "stream",
     "text": [
      " 64%|██████▎   | 133/209 [01:18<00:44,  1.71it/s]Exception in thread Thread-120:\n",
      "Traceback (most recent call last):\n",
      "  File \"/usr/lib/python3.9/threading.py\", line 980, in _bootstrap_inner\n",
      "    self.run()\n",
      "  File \"/usr/lib/python3.9/threading.py\", line 917, in run\n",
      "    self._target(*self._args, **self._kwargs)\n",
      "  File \"/usr/local/lib/python3.9/dist-packages/torch/utils/data/_utils/pin_memory.py\", line 28, in _pin_memory_loop\n",
      "    r = in_queue.get(timeout=MP_STATUS_CHECK_INTERVAL)\n",
      "  File \"/usr/lib/python3.9/multiprocessing/queues.py\", line 122, in get\n",
      "    return _ForkingPickler.loads(res)\n",
      "  File \"/usr/local/lib/python3.9/dist-packages/torch/multiprocessing/reductions.py\", line 297, in rebuild_storage_fd\n",
      "    fd = df.detach()\n",
      "  File \"/usr/lib/python3.9/multiprocessing/resource_sharer.py\", line 58, in detach\n",
      "    return reduction.recv_handle(conn)\n",
      "  File \"/usr/lib/python3.9/multiprocessing/reduction.py\", line 189, in recv_handle\n",
      "    return recvfds(s, 1)[0]\n",
      "  File \"/usr/lib/python3.9/multiprocessing/reduction.py\", line 157, in recvfds\n",
      "    msg, ancdata, flags, addr = sock.recvmsg(1, socket.CMSG_SPACE(bytes_size))\n",
      "ConnectionResetError: [Errno 104] Connection reset by peer\n",
      " 64%|██████▎   | 133/209 [01:18<00:44,  1.69it/s]\n"
     ]
    },
    {
     "ename": "KeyboardInterrupt",
     "evalue": "",
     "output_type": "error",
     "traceback": [
      "\u001b[0;31m---------------------------------------------------------------------------\u001b[0m",
      "\u001b[0;31mKeyboardInterrupt\u001b[0m                         Traceback (most recent call last)",
      "Input \u001b[0;32mIn [4]\u001b[0m, in \u001b[0;36m<cell line: 1>\u001b[0;34m()\u001b[0m\n\u001b[0;32m----> 1\u001b[0m \u001b[43mtrain\u001b[49m\u001b[43m(\u001b[49m\u001b[43munet\u001b[49m\u001b[43m,\u001b[49m\u001b[43m \u001b[49m\u001b[43mtrain_dataloader\u001b[49m\u001b[43m,\u001b[49m\u001b[43m \u001b[49m\u001b[43mvalid_dataloader\u001b[49m\u001b[43m,\u001b[49m\u001b[43m \u001b[49m\u001b[38;5;241;43m75\u001b[39;49m\u001b[43m)\u001b[49m\n",
      "Input \u001b[0;32mIn [3]\u001b[0m, in \u001b[0;36mtrain\u001b[0;34m(model, train_loader, valid_loader, epochs)\u001b[0m\n\u001b[1;32m     51\u001b[0m     batch_train_loss\u001b[38;5;241m.\u001b[39mbackward()\n\u001b[1;32m     52\u001b[0m     optimizer\u001b[38;5;241m.\u001b[39mstep()\n\u001b[0;32m---> 54\u001b[0m     total_loss \u001b[38;5;241m+\u001b[39m\u001b[38;5;241m=\u001b[39m \u001b[43mbatch_train_loss\u001b[49m\u001b[38;5;241;43m.\u001b[39;49m\u001b[43mitem\u001b[49m\u001b[43m(\u001b[49m\u001b[43m)\u001b[49m\n\u001b[1;32m     55\u001b[0m scheduler\u001b[38;5;241m.\u001b[39mstep()\n\u001b[1;32m     57\u001b[0m losses_vec\u001b[38;5;241m.\u001b[39mappend(total_loss)\n",
      "\u001b[0;31mKeyboardInterrupt\u001b[0m: "
     ]
    }
   ],
   "source": [
    "train(unet, train_dataloader, valid_dataloader, 75)"
   ]
  },
  {
   "cell_type": "code",
   "execution_count": null,
   "id": "e0aa2ee9-0460-409e-a92e-aa76519ffda8",
   "metadata": {
    "tags": []
   },
   "outputs": [],
   "source": [
    "criterion = nn.BCEWithLogitsLoss(reduction=\"sum\")\n",
    "\n",
    "out = unet(images)\n",
    "print(out.size())\n",
    "\n",
    "loss_dice = soft_dice_loss(out.cpu(), masks.cpu())\n",
    "loss_bce = criterion(out.cpu(), masks.cpu())\n",
    "\n",
    "print(\"loss_dice:\", loss_dice)\n",
    "print(\"loss_bce:\", loss_bce)"
   ]
  },
  {
   "cell_type": "code",
   "execution_count": 2,
   "id": "35eb8c93-89df-45c4-9d56-919f07443120",
   "metadata": {},
   "outputs": [],
   "source": [
    "from inference.inference import UNet2DInference\n",
    "\n",
    "ckpt_path = \"runs/test2/model_best.ckpt\"\n",
    "unet_inference = UNet2DInference(ckpt_path)\n"
   ]
  },
  {
   "cell_type": "code",
   "execution_count": 35,
   "id": "7c9c6f56-9a12-4ab9-836a-9a21dae7e141",
   "metadata": {},
   "outputs": [
    {
     "name": "stdout",
     "output_type": "stream",
     "text": [
      "valid len: 589\n",
      "idx = 298\n",
      "torch.Size([1, 256, 256])\n"
     ]
    },
    {
     "data": {
      "image/png": "[encoded data removed]",
      "text/plain": [
       "<Figure size 320x320 with 1 Axes>"
      ]
     },
     "metadata": {
      "needs_background": "light"
     },
     "output_type": "display_data"
    },
    {
     "data": {
      "image/png": "[encoded data removed]",
      "text/plain": [
       "<Figure size 320x320 with 1 Axes>"
      ]
     },
     "metadata": {
      "needs_background": "light"
     },
     "output_type": "display_data"
    }
   ],
   "source": [
    "# test on validation image \n",
    "print(\"valid len:\", len(valid_dataset))\n",
    "idx = random.randint(0, len(valid_dataset))\n",
    "print(\"idx =\", idx)\n",
    "valid_data = valid_dataset[idx]\n",
    "\n",
    "image = valid_data[\"image\"]\n",
    "mask = valid_data[\"mask\"]\n",
    "\n",
    "prediction = unet_inference.inference(image)\n",
    "print(prediction.size())\n",
    "\n",
    "\n",
    "def showImage(image: torch.Tensor, title: str):\n",
    "    import matplotlib.pyplot as plt \n",
    "    from matplotlib.pyplot import figure\n",
    "\n",
    "    image = torch.permute(image, (1,2,0))\n",
    "    image = image.cpu().detach().numpy()\n",
    "    \n",
    "    figure(figsize=(4, 4), dpi=80)\n",
    "    plt.imshow(image, cmap=\"gray\")\n",
    "    plt.title(title)\n",
    "    \n",
    "showImage(mask, \"label\")\n",
    "showImage(prediction, \"prediction\")\n"
   ]
  },
  {
   "cell_type": "code",
   "execution_count": 30,
   "id": "110825d0-b8d0-41cf-aed2-5887a21822f0",
   "metadata": {},
   "outputs": [],
   "source": []
  },
  {
   "cell_type": "code",
   "execution_count": 45,
   "id": "25fd9806-5cc8-45c8-81d1-d6bce017bd48",
   "metadata": {},
   "outputs": [
    {
     "name": "stdout",
     "output_type": "stream",
     "text": [
      "data index: 129\n"
     ]
    },
    {
     "data": {
      "image/png": "[encoded data removed]",
      "text/plain": [
       "<Figure size 720x720 with 3 Axes>"
      ]
     },
     "metadata": {
      "needs_background": "light"
     },
     "output_type": "display_data"
    }
   ],
   "source": [
    "# unet_inference.plot_results(valid_dataset, indexes)\n",
    "unet_inference.random_inference(valid_dataset)"
   ]
  },
  {
   "cell_type": "code",
   "execution_count": null,
   "id": "f61abbc9-d945-430c-a876-dbdad0e85af1",
   "metadata": {},
   "outputs": [],
   "source": []
  }
 ],
 "metadata": {
  "kernelspec": {
   "display_name": "Python 3.8.0 ('test_env')",
   "language": "python",
   "name": "python3"
  },
  "language_info": {
   "codemirror_mode": {
    "name": "ipython",
    "version": 3
   },
   "file_extension": ".py",
   "mimetype": "text/x-python",
   "name": "python",
   "nbconvert_exporter": "python",
   "pygments_lexer": "ipython3",
   "version": "3.8.0"
  },
  "vscode": {
   "interpreter": {
    "hash": "1c0d7f5dcffd120d7d70432ac7bd0e61032fd4269d30e867994ec7bf5ce0836c"
   }
  }
 },
 "nbformat": 4,
 "nbformat_minor": 5
}
